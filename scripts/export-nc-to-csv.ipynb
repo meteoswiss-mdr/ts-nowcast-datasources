{
 "cells": [
  {
   "cell_type": "code",
   "execution_count": 16,
   "id": "initial_id",
   "metadata": {
    "collapsed": true,
    "ExecuteTime": {
     "end_time": "2023-09-16T08:22:30.159363Z",
     "start_time": "2023-09-16T08:22:30.150192Z"
    }
   },
   "outputs": [],
   "source": [
    "import pathlib\n",
    "\n",
    "import xarray"
   ]
  },
  {
   "cell_type": "markdown",
   "source": [
    "# Extract Past features"
   ],
   "metadata": {
    "collapsed": false
   },
   "id": "cf310136b10a8776"
  },
  {
   "cell_type": "code",
   "execution_count": 28,
   "outputs": [],
   "source": [
    "past_feature_netcdf = xarray.open_dataset(\"../data/features_us_northeast_2020.nc\", group=\"past_features\")"
   ],
   "metadata": {
    "collapsed": false,
    "ExecuteTime": {
     "end_time": "2023-09-16T08:40:01.284311Z",
     "start_time": "2023-09-16T08:40:01.116709Z"
    }
   },
   "id": "4b0c3c9b99267420"
  },
  {
   "cell_type": "code",
   "execution_count": 29,
   "outputs": [
    {
     "data": {
      "text/plain": "436"
     },
     "execution_count": 29,
     "metadata": {},
     "output_type": "execute_result"
    }
   ],
   "source": [
    "len(past_feature_netcdf.data_vars)"
   ],
   "metadata": {
    "collapsed": false,
    "ExecuteTime": {
     "end_time": "2023-09-16T08:40:10.632886Z",
     "start_time": "2023-09-16T08:40:10.624568Z"
    }
   },
   "id": "cdb0f0fba5a8cb3b"
  },
  {
   "cell_type": "code",
   "execution_count": 32,
   "outputs": [],
   "source": [
    "data_folder_path = pathlib.Path('../data/extracted/past_features')"
   ],
   "metadata": {
    "collapsed": false,
    "ExecuteTime": {
     "end_time": "2023-09-16T08:47:38.086526Z",
     "start_time": "2023-09-16T08:47:38.085662Z"
    }
   },
   "id": "922489f55673897c"
  },
  {
   "cell_type": "code",
   "execution_count": 33,
   "outputs": [],
   "source": [
    "for table_name in past_feature_netcdf.data_vars:\n",
    "    export_file_name = (table_name.replace('::', '+') + '.csv')\n",
    "    past_feature_netcdf[table_name] \\\n",
    "        .to_pandas() \\\n",
    "        .to_csv(data_folder_path / export_file_name)"
   ],
   "metadata": {
    "collapsed": false,
    "ExecuteTime": {
     "end_time": "2023-09-16T08:54:12.571732Z",
     "start_time": "2023-09-16T08:47:42.051613Z"
    }
   },
   "id": "306b8cad42e0203f"
  },
  {
   "cell_type": "markdown",
   "source": [
    "# Extract Future features"
   ],
   "metadata": {
    "collapsed": false
   },
   "id": "cd7162e951941d94"
  },
  {
   "cell_type": "code",
   "execution_count": 23,
   "outputs": [],
   "source": [
    "future_feature_netcdf = xarray.open_dataset(\"../data/features_us_northeast_2020.nc\", group=\"future_features\")"
   ],
   "metadata": {
    "collapsed": false,
    "ExecuteTime": {
     "end_time": "2023-09-16T08:37:58.800530Z",
     "start_time": "2023-09-16T08:37:58.582228Z"
    }
   },
   "id": "ee08ef7dff64859f"
  },
  {
   "cell_type": "code",
   "execution_count": 26,
   "outputs": [],
   "source": [
    "data_folder_path = pathlib.Path('../data/future_features')\n",
    "data_folder_path.mkdir(exist_ok=True)"
   ],
   "metadata": {
    "collapsed": false,
    "ExecuteTime": {
     "end_time": "2023-09-16T08:39:14.444531Z",
     "start_time": "2023-09-16T08:39:14.439155Z"
    }
   },
   "id": "c1f816149e379f5a"
  },
  {
   "cell_type": "code",
   "execution_count": 31,
   "outputs": [],
   "source": [
    "for table_name in future_feature_netcdf.data_vars:\n",
    "    export_file_name = (table_name.replace('::', '+') + '.csv')\n",
    "    future_feature_netcdf[table_name] \\\n",
    "        .to_pandas() \\\n",
    "        .to_csv(data_folder_path / export_file_name)"
   ],
   "metadata": {
    "collapsed": false,
    "ExecuteTime": {
     "end_time": "2023-09-16T08:46:43.894444Z",
     "start_time": "2023-09-16T08:46:39.273172Z"
    }
   },
   "id": "da300d09a2b1beef"
  },
  {
   "cell_type": "markdown",
   "source": [
    "Kaggle dataset name: `feature_us_northeast_2020-ts_nowcast_datasource`"
   ],
   "metadata": {
    "collapsed": false
   },
   "id": "c5ba001d0b8881bb"
  }
 ],
 "metadata": {
  "kernelspec": {
   "display_name": "Python 3",
   "language": "python",
   "name": "python3"
  },
  "language_info": {
   "codemirror_mode": {
    "name": "ipython",
    "version": 2
   },
   "file_extension": ".py",
   "mimetype": "text/x-python",
   "name": "python",
   "nbconvert_exporter": "python",
   "pygments_lexer": "ipython2",
   "version": "2.7.6"
  }
 },
 "nbformat": 4,
 "nbformat_minor": 5
}
